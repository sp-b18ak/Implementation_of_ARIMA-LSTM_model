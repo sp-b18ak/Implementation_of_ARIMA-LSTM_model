{
 "cells": [
  {
   "cell_type": "code",
   "execution_count": 11,
   "metadata": {},
   "outputs": [
    {
     "name": "stdout",
     "output_type": "stream",
     "text": [
      "Collecting pmdarima\n",
      "  Downloading pmdarima-2.0.4-cp311-cp311-win_amd64.whl.metadata (8.0 kB)\n",
      "Requirement already satisfied: joblib>=0.11 in c:\\users\\saira\\appdata\\local\\programs\\python\\python311\\lib\\site-packages (from pmdarima) (1.3.2)\n",
      "Requirement already satisfied: Cython!=0.29.18,!=0.29.31,>=0.29 in c:\\users\\saira\\appdata\\local\\programs\\python\\python311\\lib\\site-packages (from pmdarima) (3.0.6)\n",
      "Requirement already satisfied: numpy>=1.21.2 in c:\\users\\saira\\appdata\\local\\programs\\python\\python311\\lib\\site-packages (from pmdarima) (1.26.4)\n",
      "Requirement already satisfied: pandas>=0.19 in c:\\users\\saira\\appdata\\local\\programs\\python\\python311\\lib\\site-packages (from pmdarima) (2.2.2)\n",
      "Requirement already satisfied: scikit-learn>=0.22 in c:\\users\\saira\\appdata\\local\\programs\\python\\python311\\lib\\site-packages (from pmdarima) (1.4.2)\n",
      "Requirement already satisfied: scipy>=1.3.2 in c:\\users\\saira\\appdata\\local\\programs\\python\\python311\\lib\\site-packages (from pmdarima) (1.12.0)\n",
      "Requirement already satisfied: statsmodels>=0.13.2 in c:\\users\\saira\\appdata\\local\\programs\\python\\python311\\lib\\site-packages (from pmdarima) (0.14.0)\n",
      "Requirement already satisfied: urllib3 in c:\\users\\saira\\appdata\\local\\programs\\python\\python311\\lib\\site-packages (from pmdarima) (2.2.0)\n",
      "Requirement already satisfied: setuptools!=50.0.0,>=38.6.0 in c:\\users\\saira\\appdata\\local\\programs\\python\\python311\\lib\\site-packages (from pmdarima) (65.5.0)\n",
      "Requirement already satisfied: packaging>=17.1 in c:\\users\\saira\\appdata\\local\\programs\\python\\python311\\lib\\site-packages (from pmdarima) (23.1)\n",
      "Requirement already satisfied: python-dateutil>=2.8.2 in c:\\users\\saira\\appdata\\local\\programs\\python\\python311\\lib\\site-packages (from pandas>=0.19->pmdarima) (2.8.2)\n",
      "Requirement already satisfied: pytz>=2020.1 in c:\\users\\saira\\appdata\\local\\programs\\python\\python311\\lib\\site-packages (from pandas>=0.19->pmdarima) (2023.3)\n",
      "Requirement already satisfied: tzdata>=2022.7 in c:\\users\\saira\\appdata\\local\\programs\\python\\python311\\lib\\site-packages (from pandas>=0.19->pmdarima) (2023.3)\n",
      "Requirement already satisfied: threadpoolctl>=2.0.0 in c:\\users\\saira\\appdata\\local\\programs\\python\\python311\\lib\\site-packages (from scikit-learn>=0.22->pmdarima) (3.2.0)\n",
      "Requirement already satisfied: patsy>=0.5.2 in c:\\users\\saira\\appdata\\local\\programs\\python\\python311\\lib\\site-packages (from statsmodels>=0.13.2->pmdarima) (0.5.3)\n",
      "Requirement already satisfied: six in c:\\users\\saira\\appdata\\local\\programs\\python\\python311\\lib\\site-packages (from patsy>=0.5.2->statsmodels>=0.13.2->pmdarima) (1.16.0)\n",
      "Downloading pmdarima-2.0.4-cp311-cp311-win_amd64.whl (614 kB)\n",
      "   ---------------------------------------- 0.0/614.7 kB ? eta -:--:--\n",
      "   -- ------------------------------------- 41.0/614.7 kB ? eta -:--:--\n",
      "   --- ----------------------------------- 51.2/614.7 kB 650.2 kB/s eta 0:00:01\n",
      "   ---- ---------------------------------- 71.7/614.7 kB 393.8 kB/s eta 0:00:02\n",
      "   -------- ----------------------------- 133.1/614.7 kB 714.4 kB/s eta 0:00:01\n",
      "   --------- ---------------------------- 153.6/614.7 kB 573.4 kB/s eta 0:00:01\n",
      "   ----------- -------------------------- 184.3/614.7 kB 619.5 kB/s eta 0:00:01\n",
      "   ------------ ------------------------- 204.8/614.7 kB 655.1 kB/s eta 0:00:01\n",
      "   ----------------- -------------------- 276.5/614.7 kB 680.9 kB/s eta 0:00:01\n",
      "   ------------------ ------------------- 297.0/614.7 kB 733.3 kB/s eta 0:00:01\n",
      "   ------------------ ------------------- 297.0/614.7 kB 733.3 kB/s eta 0:00:01\n",
      "   ------------------ ------------------- 297.0/614.7 kB 733.3 kB/s eta 0:00:01\n",
      "   ------------------ ------------------- 297.0/614.7 kB 733.3 kB/s eta 0:00:01\n",
      "   --------------------------- ---------- 450.6/614.7 kB 704.5 kB/s eta 0:00:01\n",
      "   ------------------------------ ------- 491.5/614.7 kB 733.7 kB/s eta 0:00:01\n",
      "   -------------------------------- ----- 532.5/614.7 kB 726.3 kB/s eta 0:00:01\n",
      "   --------------------------------- ---- 542.7/614.7 kB 740.6 kB/s eta 0:00:01\n",
      "   ------------------------------------ - 593.9/614.7 kB 717.9 kB/s eta 0:00:01\n",
      "   ------------------------------------ - 593.9/614.7 kB 717.9 kB/s eta 0:00:01\n",
      "   ------------------------------------ - 593.9/614.7 kB 717.9 kB/s eta 0:00:01\n",
      "   ------------------------------------ - 593.9/614.7 kB 717.9 kB/s eta 0:00:01\n",
      "   ------------------------------------ - 593.9/614.7 kB 717.9 kB/s eta 0:00:01\n",
      "   -------------------------------------  614.4/614.7 kB 594.6 kB/s eta 0:00:01\n",
      "   -------------------------------------- 614.7/614.7 kB 568.6 kB/s eta 0:00:00\n",
      "Installing collected packages: pmdarima\n",
      "Successfully installed pmdarima-2.0.4\n"
     ]
    },
    {
     "name": "stderr",
     "output_type": "stream",
     "text": [
      "\n",
      "[notice] A new release of pip is available: 24.0 -> 25.1.1\n",
      "[notice] To update, run: C:\\Users\\saira\\AppData\\Local\\Programs\\Python\\Python311\\python.exe -m pip install --upgrade pip\n"
     ]
    }
   ],
   "source": [
    "import sys\n",
    "!{sys.executable} -m pip install pmdarima"
   ]
  },
  {
   "cell_type": "code",
   "execution_count": 12,
   "metadata": {},
   "outputs": [],
   "source": [
    "import pandas as pd\n",
    "import numpy as np\n",
    "import matplotlib.pyplot as plt\n",
    "import random\n",
    "from pmdarima.arima import ARIMA, auto_arima\n",
    "from statsmodels.graphics.tsaplots import plot_acf, plot_pacf\n",
    "import warnings\n",
    "warnings.simplefilter(\"ignore\")"
   ]
  },
  {
   "cell_type": "code",
   "execution_count": 14,
   "metadata": {},
   "outputs": [],
   "source": [
    "import pandas as pd\n",
    "import numpy as np\n",
    "from pmdarima.arima import ARIMA\n",
    "import warnings\n",
    "\n",
    "warnings.filterwarnings(\"ignore\")\n",
    "\n",
    "# Load dataset\n",
    "dataset = pd.read_csv(\"C:\\\\Users\\\\saira\\\\Desktop\\\\arima_lstm_model\\\\train_dev_test\\\\new_asset_before_arima.csv\")\n",
    "dataset = dataset.loc[:, ~dataset.columns.str.contains('Unnamed')]\n",
    "\n",
    "residuals = []\n",
    "\n",
    "orders = [(1, 1, 0), (0, 1, 1), (1, 1, 1), (2, 1, 1), (2, 1, 0)]\n",
    "\n",
    "for idx, row in enumerate(dataset.values):\n",
    "    series = pd.Series(row)\n",
    "\n",
    "    best_model = None\n",
    "    best_aic = np.inf\n",
    "\n",
    "    for order in orders:\n",
    "        try:\n",
    "            model = ARIMA(order=order, suppress_warnings=True)\n",
    "            fitted = model.fit(series)\n",
    "            if fitted.aic() < best_aic:\n",
    "                best_model = fitted\n",
    "                best_aic = fitted.aic()\n",
    "        except:\n",
    "            continue\n",
    "\n",
    "    if best_model is None:\n",
    "        print(f\"{idx + 1} FATAL ERROR: All models failed for this series.\")\n",
    "        break\n",
    "\n",
    "    # Generate in-sample predictions\n",
    "    predictions = best_model.predict_in_sample()\n",
    "    predictions = [np.mean(predictions)] + list(predictions[:-1])  # Shift by 1\n",
    "    residual = series - predictions\n",
    "    residuals.append(residual.values)\n",
    "\n",
    "# Save residuals\n",
    "residual_df = pd.DataFrame(residuals)\n",
    "residual_df.to_csv(\"C:\\\\Users\\\\saira\\\\Desktop\\\\arima_lstm_model\\\\train_dev_test\\\\new_asset_after_arima.csv\", index=False)\n"
   ]
  },
  {
   "cell_type": "code",
   "execution_count": null,
   "metadata": {},
   "outputs": [],
   "source": []
  }
 ],
 "metadata": {
  "kernelspec": {
   "display_name": "Python 3 (ipykernel)",
   "language": "python",
   "name": "python3"
  },
  "language_info": {
   "codemirror_mode": {
    "name": "ipython",
    "version": 3
   },
   "file_extension": ".py",
   "mimetype": "text/x-python",
   "name": "python",
   "nbconvert_exporter": "python",
   "pygments_lexer": "ipython3",
   "version": "3.11.1"
  }
 },
 "nbformat": 4,
 "nbformat_minor": 4
}
